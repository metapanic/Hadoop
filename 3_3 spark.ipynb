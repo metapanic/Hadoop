{
  "nbformat": 4,
  "nbformat_minor": 0,
  "metadata": {
    "colab": {
      "provenance": []
    },
    "kernelspec": {
      "name": "python3",
      "display_name": "Python 3"
    },
    "language_info": {
      "name": "python"
    }
  },
  "cells": [
    {
      "cell_type": "code",
      "execution_count": 257,
      "metadata": {
        "id": "Ku9a5cHGSSTf"
      },
      "outputs": [],
      "source": [
        "!apt-get install openjdk-11-jdk-headless -qq > /dev/null\n"
      ]
    },
    {
      "cell_type": "code",
      "source": [
        "!wget -q https://dlcdn.apache.org/spark/spark-3.3.1/spark-3.3.1-bin-hadoop3.tgz\n",
        "!tar xf spark-3.3.1-bin-hadoop3.tgz"
      ],
      "metadata": {
        "id": "dvWitPgd4mPE"
      },
      "execution_count": 258,
      "outputs": []
    },
    {
      "cell_type": "code",
      "source": [
        "import os\n",
        "os.environ[\"JAVA_HOME\"] = \"/usr/lib/jvm/java-11-openjdk-amd64\"\n",
        "os.environ[\"SPARK_HOME\"] = \"/content/spark-3.3.1-bin-hadoop3\""
      ],
      "metadata": {
        "id": "gOnNl07Z5A-U"
      },
      "execution_count": 259,
      "outputs": []
    },
    {
      "cell_type": "code",
      "source": [
        "!pip install findspark"
      ],
      "metadata": {
        "id": "uhNw0qd25TZv",
        "colab": {
          "base_uri": "https://localhost:8080/"
        },
        "outputId": "5b5a412d-b1e9-43d4-e725-c089d17eb246"
      },
      "execution_count": 260,
      "outputs": [
        {
          "output_type": "stream",
          "name": "stdout",
          "text": [
            "Looking in indexes: https://pypi.org/simple, https://us-python.pkg.dev/colab-wheels/public/simple/\n",
            "Requirement already satisfied: findspark in /usr/local/lib/python3.8/dist-packages (2.0.1)\n"
          ]
        }
      ]
    },
    {
      "cell_type": "code",
      "source": [
        "import findspark\n",
        "findspark.init()\n",
        "from pyspark.sql import SparkSession\n",
        "from pyspark.sql.types import StructType,StructField, \\\n",
        "                              StringType, IntegerType,BooleanType, \\\n",
        "                              LongType, DateType\n",
        "import numpy as np\n",
        "import pyspark.sql.functions as func\n",
        "from pyspark.sql.functions import when\n",
        "import datetime\n",
        "from pyspark.sql.window import Window"
      ],
      "metadata": {
        "id": "raz5QrHc5blQ"
      },
      "execution_count": 261,
      "outputs": []
    },
    {
      "cell_type": "code",
      "source": [
        "spark = SparkSession.builder\\\n",
        "                    .master(\"local[*]\")\\\n",
        "                    .getOrCreate()"
      ],
      "metadata": {
        "id": "mn48R2o6aNzz"
      },
      "execution_count": 262,
      "outputs": []
    },
    {
      "cell_type": "code",
      "source": [
        "schema_web = StructType([ \n",
        "                StructField(\"id\", IntegerType(), True),\n",
        "                StructField(\"timestamp\", LongType(), True),\n",
        "                StructField(\"type\", StringType(), True),\n",
        "                StructField(\"page_id\", IntegerType(), True),\n",
        "                StructField(\"tag\", StringType(), True),\n",
        "                StructField(\"sign\", BooleanType(), True)\n",
        "])\n",
        "\n",
        "schema_lk = StructType([\n",
        "                StructField(\"id\", IntegerType(), True),\n",
        "                StructField(\"user_id\", IntegerType(), True),\n",
        "                StructField(\"fio\", StructType([\n",
        "                      StructField('lastname', StringType(), True),\n",
        "                      StructField('firstname', StringType(), True),\n",
        "                      StructField('patronymic', StringType(), True)])),\n",
        "                StructField(\"dob\", DateType(), True),\n",
        "                StructField(\"doc\", DateType(), True)\n",
        "])"
      ],
      "metadata": {
        "id": "b1V2KTd85zD5"
      },
      "execution_count": 263,
      "outputs": []
    },
    {
      "cell_type": "code",
      "source": [
        "id = [int(x) for x in range(1, 15,1)]\n",
        "timestamp = [int(x) for x in range(1670198400 , 1670803200, 100)]\n",
        "Type = [str(x) for x in np.random.choice([\"visit\", \"click\", \"scroll\", \"move\"], size=1000)]\n",
        "page_id = [int(x) for x in range(1, 100,1)]\n",
        "tag = []\n",
        "\n",
        "for i in page_id:\n",
        "  if  i%2 == 0:\n",
        "     tag.append(\"HBO\"),\n",
        "  elif  i%3 == 0:\n",
        "     tag.append(\"pron\"),\n",
        "  else:\n",
        "     tag.append(\"sport\")\n",
        "\n",
        "sign = []\n",
        "\n",
        "for i in id:\n",
        "  if  i%2 == 0:\n",
        "     sign.append(True),\n",
        "  else:  \n",
        "     sign.append(False) \n",
        "\n"
      ],
      "metadata": {
        "id": "vkQw2mwbnZH_"
      },
      "execution_count": 264,
      "outputs": []
    },
    {
      "cell_type": "code",
      "source": [
        "data_lk = [\n",
        "    (2, 1, (\"Вася\", \"Вася\", \"Вася\"), datetime.datetime(1920, 9, 5), datetime.datetime(2007, 1, 9)),\n",
        "    (12, 2, (\"Петя\", \"Петя\", \"Петя\"), datetime.datetime(2000, 2, 22), datetime.datetime(2019, 9, 11)), \n",
        "    (18, 8, (\"Игорьков\", \"Игорёк\", \"Игоревич\"), datetime.datetime(1111, 2, 11), datetime.datetime(2046, 12, 1)),\n",
        "    (7, 4, (\"Унру\", \"Сашка\", \"Иванович\"), datetime.datetime(1248, 4, 12), datetime.datetime(3999, 1, 11)),\n",
        "    (11, 7, (\"Яцик\", \"Сирожа\", \"Геннадьевич\"), datetime.datetime(1380, 5, 11), datetime.datetime(2022, 1, 11)),\n",
        "]"
      ],
      "metadata": {
        "id": "doqhJHhGqu02"
      },
      "execution_count": 265,
      "outputs": []
    },
    {
      "cell_type": "code",
      "source": [
        "df_web = spark.createDataFrame(list(zip(id, timestamp, Type, page_id, tag, sign)), schema_web)\n",
        "df_lk = spark.createDataFrame(data_lk, schema_lk)"
      ],
      "metadata": {
        "id": "kbWUtOJUEYmF"
      },
      "execution_count": 266,
      "outputs": []
    },
    {
      "cell_type": "code",
      "source": [
        "df_web.groupBy(\"id\")\\\n",
        "      .agg(func.count(\"*\").alias(\"event_cnt\"))\\\n",
        "      .orderBy(\"event_cnt\", ascending = False)\\\n",
        "      .show(15)"
      ],
      "metadata": {
        "colab": {
          "base_uri": "https://localhost:8080/"
        },
        "id": "HgwkRdvJXYPC",
        "outputId": "a5964513-5b8e-4cc3-be18-44e6c3ee333b"
      },
      "execution_count": 267,
      "outputs": [
        {
          "output_type": "stream",
          "name": "stdout",
          "text": [
            "+---+---------+\n",
            "| id|event_cnt|\n",
            "+---+---------+\n",
            "|  1|        1|\n",
            "|  6|        1|\n",
            "|  3|        1|\n",
            "|  5|        1|\n",
            "|  4|        1|\n",
            "|  7|        1|\n",
            "|  2|        1|\n",
            "| 12|        1|\n",
            "| 13|        1|\n",
            "|  9|        1|\n",
            "|  8|        1|\n",
            "| 10|        1|\n",
            "| 11|        1|\n",
            "| 14|        1|\n",
            "+---+---------+\n",
            "\n"
          ]
        }
      ]
    },
    {
      "cell_type": "code",
      "source": [
        "df_web.groupBy(\"sign\").agg(func.countDistinct(\"id\").alias('count_users'))\\\n",
        "                      .withColumn('percent', func.col('count_users')*100/func.sum('count_users')\\\n",
        "                                              .over(Window.partitionBy()))\\\n",
        "                      .show()"
      ],
      "metadata": {
        "colab": {
          "base_uri": "https://localhost:8080/"
        },
        "id": "zXM4FEn086kB",
        "outputId": "2d327cee-d1c8-43b8-c7a2-d7d9e9fe8734"
      },
      "execution_count": 268,
      "outputs": [
        {
          "output_type": "stream",
          "name": "stdout",
          "text": [
            "+-----+-----------+-------+\n",
            "| sign|count_users|percent|\n",
            "+-----+-----------+-------+\n",
            "| true|          7|   50.0|\n",
            "|false|          7|   50.0|\n",
            "+-----+-----------+-------+\n",
            "\n"
          ]
        }
      ]
    },
    {
      "cell_type": "code",
      "source": [
        "df_web.groupBy(\"sign\").agg(func.countDistinct(\"id\").alias('count_users'))\\\n",
        "                      .withColumn('percent', func.col('count_users')*100/func.sum('count_users')\\\n",
        "                                              .over(Window.partitionBy()))\\\n",
        "                      .filter(df_web.sign == True)\\\n",
        "                      .show()"
      ],
      "metadata": {
        "colab": {
          "base_uri": "https://localhost:8080/"
        },
        "id": "C52FsRGdGwvC",
        "outputId": "2833a65f-59d8-47f9-e0bf-3df4a6cbab76"
      },
      "execution_count": 269,
      "outputs": [
        {
          "output_type": "stream",
          "name": "stdout",
          "text": [
            "+----+-----------+-------+\n",
            "|sign|count_users|percent|\n",
            "+----+-----------+-------+\n",
            "|true|          7|   50.0|\n",
            "+----+-----------+-------+\n",
            "\n"
          ]
        }
      ]
    },
    {
      "cell_type": "code",
      "source": [
        "df_web.groupBy(\"page_id\", \"type\")\\\n",
        "      .agg(func.count(\"*\").alias(\"click_cnt\"))\\\n",
        "      .orderBy(\"click_cnt\", ascending = False)\\\n",
        "      .filter(df_web.type == 'click')\\\n",
        "      .show(5)"
      ],
      "metadata": {
        "colab": {
          "base_uri": "https://localhost:8080/"
        },
        "id": "5PCG-z3cL3H0",
        "outputId": "e3a171ec-5d5c-4ff0-fe34-3b38660d1e81"
      },
      "execution_count": 270,
      "outputs": [
        {
          "output_type": "stream",
          "name": "stdout",
          "text": [
            "+-------+-----+---------+\n",
            "|page_id| type|click_cnt|\n",
            "+-------+-----+---------+\n",
            "|     14|click|        1|\n",
            "|     11|click|        1|\n",
            "+-------+-----+---------+\n",
            "\n"
          ]
        }
      ]
    },
    {
      "cell_type": "code",
      "execution_count": 271,
      "metadata": {
        "id": "d4c4466f"
      },
      "outputs": [],
      "source": [
        "df_web = df_web.select(*[i for i in df_web.columns if i != \"timestamp\"],\n",
        "                    func.from_unixtime(\"timestamp\").alias(\"event_time\"))\n",
        "\n",
        "df_web = df_web.withColumn(\"new\", func.floor(func.hour(\"event_time\") / func.lit(4)))\n",
        "\n",
        "df_web = df_web.withColumn(\"time_period\", when(df_web.new == \"0\",\"0-4\")\\\n",
        "                                         .when(df_web.new == \"1\",\"4-8\")\\\n",
        "                                         .when(df_web.new == \"2\",\"8-12\")\\\n",
        "                                         .when(df_web.new == \"3\",\"12-16\")\\\n",
        "                                         .when(df_web.new == \"4\",\"16-20\")\\\n",
        "                                         .when(df_web.new == \"5\",\"20-24\")\\\n",
        "                                         )\n",
        "df_web = df_web.drop(\"new\")"
      ]
    },
    {
      "cell_type": "code",
      "source": [
        "df_web.groupBy(\"time_period\")\\\n",
        "      .agg(func.count(\"*\").alias(\"activity\"))\\\n",
        "      .orderBy(\"activity\")\\\n",
        "      .show()"
      ],
      "metadata": {
        "colab": {
          "base_uri": "https://localhost:8080/"
        },
        "id": "C1Cs9pXJ2lcb",
        "outputId": "bccf13b5-1b4b-4c9b-df50-3acc3cc32c67"
      },
      "execution_count": 272,
      "outputs": [
        {
          "output_type": "stream",
          "name": "stdout",
          "text": [
            "+-----------+--------+\n",
            "|time_period|activity|\n",
            "+-----------+--------+\n",
            "|        0-4|      14|\n",
            "+-----------+--------+\n",
            "\n"
          ]
        }
      ]
    },
    {
      "cell_type": "code",
      "source": [
        "df_all = df_lk.alias(\"lk\").join(df_web.alias(\"web\"),\n",
        "                                    on = [func.col(\"lk.user_id\") == func.col(\"web.id\")],\n",
        "                                    how = \"left\")"
      ],
      "metadata": {
        "id": "lfY1G7zot4sB"
      },
      "execution_count": 273,
      "outputs": []
    },
    {
      "cell_type": "code",
      "source": [
        "df_all.select('fio.lastname', 'tag').where(func.col('tag') == \"sport\").distinct().show()"
      ],
      "metadata": {
        "colab": {
          "base_uri": "https://localhost:8080/"
        },
        "id": "Heto574Q67q2",
        "outputId": "92e4c7a6-6759-423a-fbf2-ce9191e0fa63"
      },
      "execution_count": 274,
      "outputs": [
        {
          "output_type": "stream",
          "name": "stdout",
          "text": [
            "+--------+-----+\n",
            "|lastname|  tag|\n",
            "+--------+-----+\n",
            "|    Яцик|sport|\n",
            "|    Вася|sport|\n",
            "+--------+-----+\n",
            "\n"
          ]
        }
      ]
    }
  ]
}